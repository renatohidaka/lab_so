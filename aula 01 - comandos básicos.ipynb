{
 "cells": [
  {
   "cell_type": "markdown",
   "metadata": {},
   "source": [
    "# Comandos básicos - Linux\n",
    "Este documento tem como objetivo apresentar os comandos básicos para navegação de diretórios e manipulação de arquivos. Vamos ver os seguintes comandos:\n",
    "\n",
    "* **pwd** - para informar o nome do diretório corrente.\n",
    "* **mkdir** - para criar diretório.\n",
    "* **ls** - para listar arquivos.\n",
    "* **rmdir** - para remover um diretório vazio.\n",
    "* **cd** - para navegar entre diretórios.\n",
    "* **touch** - para criar arquivos.\n",
    "* **cp** - para copiar arquivos.\n",
    "* **mv** - para mover arquivos.\n",
    "* **ln** - para criar links de arquivos.\n",
    "* **rm** - para remover arquivos e diretórios.\n",
    " "
   ]
  },
  {
   "cell_type": "markdown",
   "metadata": {},
   "source": [
    "## pwd\n",
    "O comando **pwd** é utilizado para exibir o caminho absoluto do diretório corrente. "
   ]
  },
  {
   "cell_type": "markdown",
   "metadata": {},
   "source": [
    "Exemplo:"
   ]
  },
  {
   "cell_type": "code",
   "execution_count": 7,
   "metadata": {},
   "outputs": [
    {
     "data": {
      "text/plain": [
       "'/Users/renatohidaka/Dropbox/UFPA/aulas/LAB_SO'"
      ]
     },
     "execution_count": 7,
     "metadata": {},
     "output_type": "execute_result"
    }
   ],
   "source": [
    "pwd"
   ]
  },
  {
   "cell_type": "markdown",
   "metadata": {},
   "source": [
    "## mkdir\n",
    "O comando **mkdir** é utilizado para criar um diretório com o nome informado."
   ]
  },
  {
   "cell_type": "markdown",
   "metadata": {},
   "source": [
    "Exemplo:"
   ]
  },
  {
   "cell_type": "code",
   "execution_count": 35,
   "metadata": {},
   "outputs": [],
   "source": [
    "mkdir pasta_A"
   ]
  },
  {
   "cell_type": "markdown",
   "metadata": {},
   "source": [
    "Nesse exemplo, a **pasata_A** foi criada no diretório atual. Ao utilizar o comando **pwd**, constatamos que estamos no diretório `/Users/renatohidaka/` `Dropbox/UFPA/aulas/LAB_SO`, ou seja, o diterótio **pasata_A** foi criado dentro do diretório **LAB_SO**."
   ]
  },
  {
   "cell_type": "markdown",
   "metadata": {},
   "source": [
    "Se você quiser criar um diretório que não seja dentro do diretório atual, então basta informar o caminho absoluto do diretório que será criado."
   ]
  },
  {
   "cell_type": "markdown",
   "metadata": {},
   "source": [
    "Exemplo:"
   ]
  },
  {
   "cell_type": "code",
   "execution_count": 26,
   "metadata": {},
   "outputs": [],
   "source": [
    "mkdir /Users/renatohidaka/pasta_B"
   ]
  },
  {
   "cell_type": "markdown",
   "metadata": {},
   "source": [
    "Se você tentar criar um diretório dentro de um diretório inexistente, você receberá um erro do tipo `No such file or directory`."
   ]
  },
  {
   "cell_type": "markdown",
   "metadata": {},
   "source": [
    "Exemplo:"
   ]
  },
  {
   "cell_type": "code",
   "execution_count": 44,
   "metadata": {},
   "outputs": [
    {
     "name": "stdout",
     "output_type": "stream",
     "text": [
      "mkdir: pasta_C: No such file or directory\r\n"
     ]
    }
   ],
   "source": [
    "mkdir pasta_C/pasta_D"
   ]
  },
  {
   "cell_type": "markdown",
   "metadata": {},
   "source": [
    "Nesse exemplo, nós recebemos o erro do tipo `No such file or directory` porque estamos tentando criar o diretório **pasta_D** dentro do diretório **pasta_C**. Porém, o diretório **pasta_C** não existe. Para resolver esse problema, nós podemos utilizar a opção `-p`. Ao utilizar a opção `-p`, estamos informando que, se necessário, o diretórios intermediários podem ser criados."
   ]
  },
  {
   "cell_type": "markdown",
   "metadata": {},
   "source": [
    "Exemplo:"
   ]
  },
  {
   "cell_type": "code",
   "execution_count": 45,
   "metadata": {},
   "outputs": [],
   "source": [
    "mkdir -p pasta_C/pasta_D"
   ]
  },
  {
   "cell_type": "markdown",
   "metadata": {},
   "source": [
    "## ls\n",
    "O comando **ls** é utilizado para listar os arquivos do diretório especificado. Se você não especificar um diretório, então o comando **ls** listará os arquivos do diretório atual."
   ]
  },
  {
   "cell_type": "markdown",
   "metadata": {},
   "source": [
    "Exemplos:"
   ]
  },
  {
   "cell_type": "code",
   "execution_count": 23,
   "metadata": {},
   "outputs": [
    {
     "name": "stdout",
     "output_type": "stream",
     "text": [
      "/Users/renatohidaka/Dropbox/UFPA/curso_python\n"
     ]
    }
   ],
   "source": [
    "cd ~/Dropbox/UFPA/curso_python/"
   ]
  },
  {
   "cell_type": "code",
   "execution_count": 24,
   "metadata": {},
   "outputs": [
    {
     "name": "stdout",
     "output_type": "stream",
     "text": [
      "Icon?                                 URI 1789 - A Corrida de Lesmas.mov\r\n",
      "URI 1006 - Média 2.mov                apresentacao.mp4\r\n",
      "URI 1009 - Salário com Bônus.mov      \u001b[34mslide\u001b[m\u001b[m/\r\n",
      "URI 1044 - Múltiplos.mov              video 0.mp4\r\n",
      "URI 1048 - Aumento de Salário.mov\r\n"
     ]
    }
   ],
   "source": [
    "ls"
   ]
  },
  {
   "cell_type": "code",
   "execution_count": null,
   "metadata": {},
   "outputs": [],
   "source": []
  },
  {
   "cell_type": "markdown",
   "metadata": {},
   "source": [
    "## cd\n",
    "O comando **cd** é utilizado para navegar entre os diretórios. Você pode utilizar o comando **cd** passando o caminho absoluto do diterótio que você deseja acessar, ou passando o caminho relativo. No caminho relativo, você pode utilizar as seguintes simplificações:\n",
    "* .. para voltar um nível.\n",
    "* ~ para ir para o diterório home do usuário.\n",
    "* / para ir para o diretório raiz.\n",
    "* $-$ para voltar para o último diretório."
   ]
  },
  {
   "cell_type": "markdown",
   "metadata": {},
   "source": [
    "Exemplos:"
   ]
  },
  {
   "cell_type": "code",
   "execution_count": 12,
   "metadata": {},
   "outputs": [
    {
     "name": "stdout",
     "output_type": "stream",
     "text": [
      "/Users/renatohidaka/Documents\n"
     ]
    }
   ],
   "source": [
    "cd /Users/renatohidaka/Documents"
   ]
  },
  {
   "cell_type": "code",
   "execution_count": 14,
   "metadata": {},
   "outputs": [
    {
     "name": "stdout",
     "output_type": "stream",
     "text": [
      "/Users/renatohidaka\n"
     ]
    }
   ],
   "source": [
    "cd ~"
   ]
  },
  {
   "cell_type": "code",
   "execution_count": 15,
   "metadata": {},
   "outputs": [
    {
     "name": "stdout",
     "output_type": "stream",
     "text": [
      "/\n"
     ]
    }
   ],
   "source": [
    "cd /"
   ]
  },
  {
   "cell_type": "code",
   "execution_count": 16,
   "metadata": {},
   "outputs": [
    {
     "name": "stdout",
     "output_type": "stream",
     "text": [
      "/Users/renatohidaka\n"
     ]
    }
   ],
   "source": [
    "cd -"
   ]
  },
  {
   "cell_type": "code",
   "execution_count": 17,
   "metadata": {},
   "outputs": [
    {
     "name": "stdout",
     "output_type": "stream",
     "text": [
      "/Users\n"
     ]
    }
   ],
   "source": [
    "cd .."
   ]
  },
  {
   "cell_type": "code",
   "execution_count": 18,
   "metadata": {},
   "outputs": [
    {
     "name": "stdout",
     "output_type": "stream",
     "text": [
      "/Users/renatohidaka/Documents\n"
     ]
    }
   ],
   "source": [
    "cd ~/Documents"
   ]
  }
 ],
 "metadata": {
  "kernelspec": {
   "display_name": "Python 3",
   "language": "python",
   "name": "python3"
  },
  "language_info": {
   "codemirror_mode": {
    "name": "ipython",
    "version": 3
   },
   "file_extension": ".py",
   "mimetype": "text/x-python",
   "name": "python",
   "nbconvert_exporter": "python",
   "pygments_lexer": "ipython3",
   "version": "3.6.1"
  }
 },
 "nbformat": 4,
 "nbformat_minor": 2
}
